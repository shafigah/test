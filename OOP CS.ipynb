{
 "cells": [
  {
   "cell_type": "code",
   "execution_count": 1,
   "id": "abf249c4",
   "metadata": {},
   "outputs": [
    {
     "data": {
      "text/plain": [
       "'\\nDisclaimer: While the case is real, data modified for educational purposes.\\nYou have been given the data of a superstore that sells office equipment.\\nAnswer the following questions by setting up 1 graph for each question.\\n1. Create Car Class that has 3 class attributes: year, mpg and speed.\\n2. Create 2 methods for the Car class:\\nAccelerate and break where the speed of the car changes when this methods are called.\\n3. Change all class attributes to instance attributes.\\n4. Create a class vehicle and create inheritance between car and vehicle.\\n5. Create a new class bus which has the same methods as car and inherits from Vehicle.\\n6. Change some of the instance attributes to the private attributes.\\n'"
      ]
     },
     "execution_count": 1,
     "metadata": {},
     "output_type": "execute_result"
    }
   ],
   "source": [
    "\"\"\"\n",
    "Disclaimer: While the case is real, data modified for educational purposes.\n",
    "You have been given the data of a superstore that sells office equipment.\n",
    "Answer the following questions by setting up 1 graph for each question.\n",
    "1. Create Car Class that has 3 class attributes: year, mpg and speed.\n",
    "2. Create 2 methods for the Car class:\n",
    "Accelerate and break where the speed of the car changes when this methods are called.\n",
    "3. Change all class attributes to instance attributes.\n",
    "4. Create a class vehicle and create inheritance between car and vehicle.\n",
    "5. Create a new class bus which has the same methods as car and inherits from Vehicle.\n",
    "6. Change some of the instance attributes to the private attributes.\n",
    "\"\"\""
   ]
  },
  {
   "cell_type": "code",
   "execution_count": 2,
   "id": "203e3209",
   "metadata": {},
   "outputs": [],
   "source": [
    "#1. Create Car Class that has 3 class attributes: year, mpg and speed.\n",
    "class Car:\n",
    "    def __init__(self,year, mpg,speed):\n",
    "        self.year = year\n",
    "        self.mpg = mpg\n",
    "        self.speed = speed\n"
   ]
  },
  {
   "cell_type": "code",
   "execution_count": 5,
   "id": "cb8bd86e",
   "metadata": {},
   "outputs": [],
   "source": [
    "car1 = Car(2013,'nese',880)"
   ]
  },
  {
   "cell_type": "code",
   "execution_count": 6,
   "id": "e63c4f44",
   "metadata": {},
   "outputs": [
    {
     "data": {
      "text/plain": [
       "880"
      ]
     },
     "execution_count": 6,
     "metadata": {},
     "output_type": "execute_result"
    }
   ],
   "source": [
    "car1.speed"
   ]
  },
  {
   "cell_type": "code",
   "execution_count": 8,
   "id": "6b1bbf6f",
   "metadata": {},
   "outputs": [],
   "source": [
    "#2. Create 2 methods for the Car class: \n",
    "#Accelerate and break where the speed of the car changes when this methods are called.\n",
    "\n",
    "class Car:\n",
    "    def __init__(self,year, mpg,speed):\n",
    "        self.year = year\n",
    "        self.mpg = mpg\n",
    "        self.speed = speed\n",
    "        \n",
    "    def Accelerate(self):\n",
    "        return self.speed + 50\n",
    "    \n",
    "    def breakk(self):\n",
    "        return self.speed - 20\n"
   ]
  },
  {
   "cell_type": "code",
   "execution_count": 16,
   "id": "8657be6b",
   "metadata": {},
   "outputs": [],
   "source": [
    "c2 = Car(2005,'lll',500)"
   ]
  },
  {
   "cell_type": "code",
   "execution_count": 17,
   "id": "4a504545",
   "metadata": {},
   "outputs": [
    {
     "data": {
      "text/plain": [
       "500"
      ]
     },
     "execution_count": 17,
     "metadata": {},
     "output_type": "execute_result"
    }
   ],
   "source": [
    "c2.speed"
   ]
  },
  {
   "cell_type": "code",
   "execution_count": 18,
   "id": "4dba4447",
   "metadata": {},
   "outputs": [],
   "source": [
    "c2.speed = 100"
   ]
  },
  {
   "cell_type": "code",
   "execution_count": 19,
   "id": "3581257b",
   "metadata": {},
   "outputs": [
    {
     "data": {
      "text/plain": [
       "100"
      ]
     },
     "execution_count": 19,
     "metadata": {},
     "output_type": "execute_result"
    }
   ],
   "source": [
    "c2.speed"
   ]
  },
  {
   "cell_type": "code",
   "execution_count": 20,
   "id": "404e12b0",
   "metadata": {},
   "outputs": [
    {
     "data": {
      "text/plain": [
       "180"
      ]
     },
     "execution_count": 20,
     "metadata": {},
     "output_type": "execute_result"
    }
   ],
   "source": [
    "Car(2022,'lll',200).breakk()"
   ]
  },
  {
   "cell_type": "code",
   "execution_count": 30,
   "id": "93a180cd",
   "metadata": {},
   "outputs": [],
   "source": [
    "#3. Change all class attributes to instance attributes.\n",
    "class Cars():\n",
    "    def __init__(self, year, mpg, speed):\n",
    "        self.year = year\n",
    "        self.mpg = mpg\n",
    "        self.speed = speed\n",
    "    \n",
    "    def accelerate(self):\n",
    "        self.speed += 20\n",
    "        return self.speed\n",
    "    \n",
    "    def brake (self):\n",
    "        self.speed -= 50\n",
    "        return self.speed"
   ]
  },
  {
   "cell_type": "code",
   "execution_count": 37,
   "id": "546545aa",
   "metadata": {},
   "outputs": [
    {
     "data": {
      "text/plain": [
       "150"
      ]
     },
     "execution_count": 37,
     "metadata": {},
     "output_type": "execute_result"
    }
   ],
   "source": [
    "Car(2022,'lll',200).brake()"
   ]
  },
  {
   "cell_type": "code",
   "execution_count": 38,
   "id": "1289c8ec",
   "metadata": {},
   "outputs": [
    {
     "data": {
      "text/plain": [
       "220"
      ]
     },
     "execution_count": 38,
     "metadata": {},
     "output_type": "execute_result"
    }
   ],
   "source": [
    "Car(2022,'lll',200).accelerate()"
   ]
  },
  {
   "cell_type": "code",
   "execution_count": 56,
   "id": "03e95030",
   "metadata": {},
   "outputs": [],
   "source": [
    "# 4. Create a class vehicle and create inheritance between car and vehicle.\n",
    "#5. Create a new class bus which has the same methods as car and inherits from Vehicle.\n",
    "#6. Change some of the instance attributes to the private attributes.\n",
    "class Vehicle():\n",
    "    def __init__(self, year, mpg, speed):\n",
    "        self.year = year\n",
    "        self.mpg = mpg\n",
    "        self.speed = speed\n",
    "        \n",
    "    def accelerate(self):\n",
    "        self.speed += 20\n",
    "        return self.speed\n",
    "    \n",
    "    def brake (self):\n",
    "        self.speed -= 50\n",
    "        return self.speed\n",
    "    \n",
    "class Car(Vehicle):\n",
    "    def __init__(self, year, mpg, speed,color,car_type):\n",
    "        super().__init__(year, mpg, speed)\n",
    "        self.color = color\n",
    "        self.car_type = car_type\n",
    "        \n",
    "    "
   ]
  },
  {
   "cell_type": "code",
   "execution_count": 52,
   "id": "ef23d503",
   "metadata": {},
   "outputs": [],
   "source": [
    "car1 = Car(2018,90,300,'red','mercedes')"
   ]
  },
  {
   "cell_type": "code",
   "execution_count": 58,
   "id": "c71c85ea",
   "metadata": {},
   "outputs": [],
   "source": [
    "#5. Create a new class bus which has the same methods as car and inherits from Vehicle.\n",
    "class Bus(Vehicle):\n",
    "    def __init__(self, year, mpg, speed,color,bus_type):\n",
    "        super().__init__( year, mpg, speed)\n",
    "        self.color = color\n",
    "        self.bus_type = bus_type"
   ]
  },
  {
   "cell_type": "code",
   "execution_count": 59,
   "id": "50a7eafb",
   "metadata": {},
   "outputs": [
    {
     "data": {
      "text/plain": [
       "270"
      ]
     },
     "execution_count": 59,
     "metadata": {},
     "output_type": "execute_result"
    }
   ],
   "source": [
    "car1.speed"
   ]
  },
  {
   "cell_type": "code",
   "execution_count": 61,
   "id": "02433298",
   "metadata": {},
   "outputs": [],
   "source": [
    "bus1 = Bus(2022,77,250,'red','bmw')"
   ]
  },
  {
   "cell_type": "code",
   "execution_count": 54,
   "id": "a84bf1a9",
   "metadata": {},
   "outputs": [
    {
     "data": {
      "text/plain": [
       "250"
      ]
     },
     "execution_count": 54,
     "metadata": {},
     "output_type": "execute_result"
    }
   ],
   "source": [
    "car1.brake()"
   ]
  },
  {
   "cell_type": "code",
   "execution_count": 65,
   "id": "13d4a1d6",
   "metadata": {},
   "outputs": [
    {
     "ename": "AttributeError",
     "evalue": "'Bus' object has no attribute 'aceleration'",
     "output_type": "error",
     "traceback": [
      "\u001b[1;31m---------------------------------------------------------------------------\u001b[0m",
      "\u001b[1;31mAttributeError\u001b[0m                            Traceback (most recent call last)",
      "\u001b[1;32m~\\AppData\\Local\\Temp/ipykernel_6476/3889906659.py\u001b[0m in \u001b[0;36m<module>\u001b[1;34m\u001b[0m\n\u001b[1;32m----> 1\u001b[1;33m \u001b[0mbus1\u001b[0m\u001b[1;33m.\u001b[0m\u001b[0maceleration\u001b[0m\u001b[1;33m(\u001b[0m\u001b[1;33m)\u001b[0m\u001b[1;33m\u001b[0m\u001b[1;33m\u001b[0m\u001b[0m\n\u001b[0m",
      "\u001b[1;31mAttributeError\u001b[0m: 'Bus' object has no attribute 'aceleration'"
     ]
    }
   ],
   "source": [
    "bus1.aceleration()"
   ]
  },
  {
   "cell_type": "code",
   "execution_count": 67,
   "id": "0354c491",
   "metadata": {},
   "outputs": [
    {
     "data": {
      "text/plain": [
       "'bmw'"
      ]
     },
     "execution_count": 67,
     "metadata": {},
     "output_type": "execute_result"
    }
   ],
   "source": [
    "bus1.bus_type"
   ]
  },
  {
   "cell_type": "code",
   "execution_count": 66,
   "id": "c1d7faff",
   "metadata": {},
   "outputs": [
    {
     "data": {
      "text/plain": [
       "290"
      ]
     },
     "execution_count": 66,
     "metadata": {},
     "output_type": "execute_result"
    }
   ],
   "source": [
    "car1.accelerate()"
   ]
  },
  {
   "cell_type": "code",
   "execution_count": 68,
   "id": "c450a90e",
   "metadata": {},
   "outputs": [],
   "source": [
    "#6. Change some of the instance attributes to the private attributes.\n",
    "class Vehicle():\n",
    "    def __init__(self, year, mpg, speed):\n",
    "        self.__year = year\n",
    "        self.mpg = mpg\n",
    "        self.__speed = speed"
   ]
  },
  {
   "cell_type": "code",
   "execution_count": 69,
   "id": "ca18fd96",
   "metadata": {},
   "outputs": [],
   "source": [
    "v = Vehicle(2000,29,88)"
   ]
  },
  {
   "cell_type": "code",
   "execution_count": 70,
   "id": "653ed3f6",
   "metadata": {},
   "outputs": [
    {
     "ename": "AttributeError",
     "evalue": "'Vehicle' object has no attribute 'speed'",
     "output_type": "error",
     "traceback": [
      "\u001b[1;31m---------------------------------------------------------------------------\u001b[0m",
      "\u001b[1;31mAttributeError\u001b[0m                            Traceback (most recent call last)",
      "\u001b[1;32m~\\AppData\\Local\\Temp/ipykernel_6476/3267210749.py\u001b[0m in \u001b[0;36m<module>\u001b[1;34m\u001b[0m\n\u001b[1;32m----> 1\u001b[1;33m \u001b[0mv\u001b[0m\u001b[1;33m.\u001b[0m\u001b[0mspeed\u001b[0m\u001b[1;33m\u001b[0m\u001b[1;33m\u001b[0m\u001b[0m\n\u001b[0m",
      "\u001b[1;31mAttributeError\u001b[0m: 'Vehicle' object has no attribute 'speed'"
     ]
    }
   ],
   "source": [
    "v.speed"
   ]
  },
  {
   "cell_type": "code",
   "execution_count": 71,
   "id": "095b5c8c",
   "metadata": {},
   "outputs": [
    {
     "ename": "AttributeError",
     "evalue": "'Vehicle' object has no attribute 'year'",
     "output_type": "error",
     "traceback": [
      "\u001b[1;31m---------------------------------------------------------------------------\u001b[0m",
      "\u001b[1;31mAttributeError\u001b[0m                            Traceback (most recent call last)",
      "\u001b[1;32m~\\AppData\\Local\\Temp/ipykernel_6476/2017083691.py\u001b[0m in \u001b[0;36m<module>\u001b[1;34m\u001b[0m\n\u001b[1;32m----> 1\u001b[1;33m \u001b[0mv\u001b[0m\u001b[1;33m.\u001b[0m\u001b[0myear\u001b[0m\u001b[1;33m\u001b[0m\u001b[1;33m\u001b[0m\u001b[0m\n\u001b[0m",
      "\u001b[1;31mAttributeError\u001b[0m: 'Vehicle' object has no attribute 'year'"
     ]
    }
   ],
   "source": [
    "v.year"
   ]
  },
  {
   "cell_type": "code",
   "execution_count": 72,
   "id": "c047d386",
   "metadata": {},
   "outputs": [
    {
     "data": {
      "text/plain": [
       "29"
      ]
     },
     "execution_count": 72,
     "metadata": {},
     "output_type": "execute_result"
    }
   ],
   "source": [
    "v.mpg"
   ]
  },
  {
   "cell_type": "code",
   "execution_count": null,
   "id": "71f2e95b",
   "metadata": {},
   "outputs": [],
   "source": []
  }
 ],
 "metadata": {
  "kernelspec": {
   "display_name": "Python 3 (ipykernel)",
   "language": "python",
   "name": "python3"
  },
  "language_info": {
   "codemirror_mode": {
    "name": "ipython",
    "version": 3
   },
   "file_extension": ".py",
   "mimetype": "text/x-python",
   "name": "python",
   "nbconvert_exporter": "python",
   "pygments_lexer": "ipython3",
   "version": "3.9.7"
  }
 },
 "nbformat": 4,
 "nbformat_minor": 5
}
